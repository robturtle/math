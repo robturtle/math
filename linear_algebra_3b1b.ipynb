{
 "cells": [
  {
   "cell_type": "markdown",
   "metadata": {},
   "source": [
    "**DEF1**: A **vector** $\\vec{n}$ of dimension $n$ is an ordered collection of $n$ elements, which supports\n",
    "\n",
    "1. addition: \n",
    "\n",
    "$$\n",
    "\\vec{u} + \\vec{v}\n",
    "$$\n",
    "\n",
    "2. scalar multiplication:\n",
    "\n",
    "$$a\\vec{v}$$\n",
    "\n",
    "where $a$ belongs to a certain feild $F$."
   ]
  },
  {
   "cell_type": "markdown",
   "metadata": {},
   "source": [
    "**Axioms**:\n",
    "$$\n",
    "\\begin{align*}\n",
    "\\vec{u} + (\\vec{v} + \\vec{w}) &= (\\vec{u} + \\vec{v}) + \\vec{w} & \\ldots\\text{additive associativity} \\\\\n",
    "\\vec{v} + \\vec{w} &= \\vec{w} + \\vec{v} & \\dots\\text{additive commutativity} \\\\\n",
    "\\exists \\vec{0}. \\forall \\vec{v}. \\ \\vec{0} + \\vec{v} &= \\vec{v} & \\ldots\\text{additive identity} \\\\\n",
    "\\forall \\vec{v}. \\exists -\\vec{v}. \\vec{v} + (-\\vec{v}) &= \\vec{0} & \\ldots\\text{additive inverse}\\\\\n",
    "a(b\\vec{v}) &= (ab)\\vec{v} & \\ldots\\text{multiplicative associativity}\\\\\n",
    "1\\vec{v} &= \\vec{v} & \\ldots\\text{multiplicative identity} \\\\\n",
    "a(\\vec{v} + \\vec{w}) &= a\\vec{v} + a\\vec{w} & \\ldots\\text{multiplicative distributivity} \\\\\n",
    "(a + b)\\vec{v} &= a\\vec{v} + b\\vec{v} & \\ldots\\text{field additive distributivity}\n",
    "\\end{align*}\n",
    "$$"
   ]
  },
  {
   "cell_type": "markdown",
   "metadata": {},
   "source": [
    "**DEF2**: A **linear combination** of $\\vec{u}$ and $\\vec{v}$ is:\n",
    "\n",
    "$$\n",
    "a\\vec{u} + b\\vec{v}\n",
    "$$"
   ]
  },
  {
   "cell_type": "markdown",
   "metadata": {},
   "source": [
    "**DEF3**: A **span** of a collection of vectors $\\vec{i_1}, \\vec{i_2}, ...$ is:\n",
    "    \n",
    "$$\n",
    "\\forall a. \\forall b. a\\vec{u} + b\\vec{v}\n",
    "$$"
   ]
  },
  {
   "cell_type": "markdown",
   "metadata": {},
   "source": [
    "**DEF4**: $\\vec{u}$ and $\\vec{v}$ are **linear dependent** if:\n",
    "\n",
    "$$\n",
    "\\exists a. a\\vec{u} = \\vec{v}\n",
    "$$"
   ]
  },
  {
   "cell_type": "markdown",
   "metadata": {},
   "source": [
    "*DEF4.1*: A set of vectors $\\{\\vec{v_1}, \\vec{v_2}, \\dots, \\vec{v_n}\\}$ is *linear independent* if:\n",
    "\n",
    "$$\n",
    "!\\exists a_1 = a_2 = \\dots = a_n = 0.\\   a_1\\vec{v_1} + a_2\\vec{v_2} + \\dots + a_n\\vec{v_n} = \\vec{0}\n",
    "$$"
   ]
  },
  {
   "cell_type": "markdown",
   "metadata": {},
   "source": [
    "**DEF5**: A **basis** $B$ is a set of *linear independent* vectors."
   ]
  },
  {
   "cell_type": "markdown",
   "metadata": {},
   "source": [
    "**DEF6**: A **linear transformation** $L$ is a function $\\vec{u} \\to \\vec{v}$, such that preserve\n",
    "\n",
    "1. addition\n",
    "\n",
    "$$\n",
    "L(\\vec{v} + \\vec{w}) = L(\\vec{v}) + L(\\vec{w})\n",
    "$$\n",
    "\n",
    "2. scalar multiplication\n",
    "\n",
    "$$\n",
    "L(c\\vec{v}) = cL(\\vec{v})\n",
    "$$"
   ]
  },
  {
   "cell_type": "markdown",
   "metadata": {},
   "source": [
    "The geometrical understanding of a linear transformation is by tracking the outcome of the basis. Linear means *keeping grid lines parallel and evenly spaced*.\n",
    "\n",
    "$$\n",
    "\\begin{bmatrix}\n",
    "a & b \\\\\n",
    "c & d\n",
    "\\end{bmatrix}\n",
    "$$\n",
    "\n",
    "The matrix above is to transfer the basis from $\\{(1,0), (0,1)\\}$ to $\\{(a, c), (b, d)\\}$.\n",
    "\n",
    "To apply the transformation $F$ on a vector $(x, y)$, do:\n",
    "\n",
    "$$\n",
    "\\begin{bmatrix} a & b \\\\ c & d \\end{bmatrix}\n",
    "\\begin{bmatrix} x \\\\ y\\end{bmatrix}\n",
    "= x \\begin{bmatrix} a \\\\ c\\end{bmatrix} + y \\begin{bmatrix} b \\\\ d\\end{bmatrix}\n",
    "= \\begin{bmatrix} ax + by \\\\ cx + dy \\end{bmatrix}\n",
    "$$"
   ]
  },
  {
   "cell_type": "markdown",
   "metadata": {},
   "source": [
    "**INF6.1**: linear transformation is **associative**\n",
    "$$\n",
    "A(BC) = (AB)C\n",
    "$$\n",
    "\n",
    "**INF6.2** linear transformation is **NOT commutative**\n",
    "$$\n",
    "AB \\neq BA\n",
    "$$"
   ]
  },
  {
   "cell_type": "markdown",
   "metadata": {},
   "source": [
    "**DEF7**: the **determinant** of a matrix $M$ is\n",
    "\n",
    "$$\n",
    "\\text{det}\\left(\n",
    "\\begin{bmatrix}\n",
    "a & b \\\\\n",
    "c & d\n",
    "\\end{bmatrix}\n",
    "\\right) = ad - bc\n",
    "$$"
   ]
  },
  {
   "cell_type": "markdown",
   "metadata": {},
   "source": [
    "**INF7.1**:\n",
    "$$\n",
    "\\text{det}(MN) = \\text{det}(M)\\text{det}(N)\n",
    "$$"
   ]
  },
  {
   "cell_type": "markdown",
   "metadata": {},
   "source": [
    "**DEF8**: linear system of equations\n",
    "\n",
    "$$\n",
    "\\begin{bmatrix}\n",
    "2 & 5 & 3 \\\\\n",
    "4 & 0 & 8 \\\\\n",
    "1 & 3 & 0 \\\\\n",
    "\\end{bmatrix}\n",
    "\\begin{bmatrix} x \\\\ y \\\\ z \\end{bmatrix} =\n",
    "\\begin{bmatrix} -3 \\\\ 0 \\\\ 2 \\end{bmatrix}\n",
    "$$\n",
    "\n",
    "can be written as:\n",
    "$$\n",
    "A\\vec{x} = \\vec{v}\n",
    "$$"
   ]
  },
  {
   "cell_type": "markdown",
   "metadata": {},
   "source": [
    "**DEF9**: an inverse of $A$ is $A^{-1}$ such that\n",
    "\n",
    "$$\n",
    "A^{-1}A = I\n",
    "$$"
   ]
  },
  {
   "cell_type": "markdown",
   "metadata": {},
   "source": [
    "**INF9.0.1**:\n",
    "$$\n",
    "A^{-1}A = AA^{-1}\n",
    "$$"
   ]
  },
  {
   "cell_type": "markdown",
   "metadata": {},
   "source": [
    "**DEF9.1**: the solution of $\\vec{x}$ is\n",
    "$$\n",
    "\\vec{x} = A^{-1}\\vec{v}\n",
    "$$"
   ]
  },
  {
   "cell_type": "markdown",
   "metadata": {},
   "source": [
    "**DEF9.2**:\n",
    "$$\n",
    "\\forall A. \\text{det}(A) \\neq 0 \\Rightarrow \\exists A^{-1}\n",
    "$$"
   ]
  },
  {
   "cell_type": "markdown",
   "metadata": {},
   "source": [
    "**DEF10**: a **rank** of $A$ is the number of dimensions in its *column space*. $A$ is *full rank* if the rank is maximum."
   ]
  },
  {
   "cell_type": "markdown",
   "metadata": {},
   "source": [
    "**DEF11**: a **null space** or **kernel** of $A$ it's the space that all output vectors become *null*."
   ]
  },
  {
   "cell_type": "markdown",
   "metadata": {},
   "source": [
    "**DEF12**:\n",
    "\n",
    "$$\n",
    "\\begin{bmatrix}\n",
    "a \\\\ b\n",
    "\\end{bmatrix}\n",
    "\\cdot\n",
    "\\begin{bmatrix}\n",
    "c \\\\ d\n",
    "\\end{bmatrix}\n",
    "= ac + bd\n",
    "$$\n",
    "\n",
    "The *dual* of linear transformation $[a,b]$ is a vector $(a,b)$ in that space.\n",
    "\n",
    "Dot product is to transfer a vector into a linear transformation.\n",
    "\n",
    "The geomarical meaning is to project $\\vec{u}$ onto $\\vec{v}$ and compute the product of lengths."
   ]
  },
  {
   "cell_type": "markdown",
   "metadata": {},
   "source": [
    "**INF12.1**: commutativity\n",
    "$$\n",
    "\\vec{v}\\cdot\\vec{w} = \\vec{w}\\cdot\\vec{v}\n",
    "$$"
   ]
  },
  {
   "cell_type": "markdown",
   "metadata": {},
   "source": [
    "**DEF13**:\n",
    "$$\n",
    "\\begin{bmatrix} a \\\\ b \\end{bmatrix} \\times \\begin{bmatrix} c \\\\ d \\end{bmatrix}\n",
    "= \\text{det}\\left(\n",
    "\\begin{bmatrix}\n",
    "a & c \\\\\n",
    "b & d\n",
    "\\end{bmatrix}\n",
    "\\right)\n",
    "$$"
   ]
  },
  {
   "cell_type": "markdown",
   "metadata": {},
   "source": [
    "**DEF13.1**:\n",
    "$$\n",
    "\\begin{bmatrix} a \\\\ b \\\\ c\\end{bmatrix} \\times \\begin{bmatrix} d \\\\ e \\\\ f \\end{bmatrix}\n",
    "= \\text{det}\\left(\n",
    "\\begin{bmatrix}\n",
    "\\hat{i} & a & d \\\\\n",
    "\\hat{j} & b & e \\\\\n",
    "\\hat{k} & c & f\n",
    "\\end{bmatrix}\n",
    "\\right)\n",
    "$$"
   ]
  },
  {
   "cell_type": "markdown",
   "metadata": {},
   "source": [
    "**INF13.2**: orientation\n",
    "$$\n",
    "\\vec{v}\\times\\vec{w} = -\\vec{w}\\times\\vec{v}\n",
    "$$"
   ]
  },
  {
   "cell_type": "markdown",
   "metadata": {},
   "source": [
    "**INF13.3**: The dual of $f: \\vec{x} \\to \\text{volume of parallelepiped}(\\vec{x}, \\vec{v}, \\vec{w}))$ is a $\\vec{p}$ such that:\n",
    "\n",
    "$$\n",
    "\\begin{bmatrix}\n",
    "p_1 \\\\ p_2 \\\\ p_3\n",
    "\\end{bmatrix}\n",
    "\\cdot\n",
    "\\begin{bmatrix}\n",
    "x \\\\ y \\\\ z\n",
    "\\end{bmatrix}\n",
    "=\n",
    "\\text{det}\\left(\n",
    "\\begin{bmatrix}\n",
    "x & v_1 & w_1 \\\\\n",
    "y & v_2 & w_2 \\\\\n",
    "z & v_3 & w_3\n",
    "\\end{bmatrix}\n",
    "\\right)\n",
    "$$"
   ]
  },
  {
   "cell_type": "markdown",
   "metadata": {},
   "source": [
    "**INF14**: Given a linear transformation $M$ with $I$ as the basis, and another basis $B$. The corresponding linear transformation in $B$'s coordinate system is:\n",
    "\n",
    "$$\n",
    "M_B = B^{-1}MB\n",
    "$$"
   ]
  },
  {
   "cell_type": "markdown",
   "metadata": {},
   "source": [
    "**DEF15**: **Eigenvectors** of a linear transformation $M$ are vectors where its input and output are linear dependent. **Eigenvalues** are the scaling ratio of ouput/input.\n",
    "\n",
    "$$\n",
    "A\\vec{v} = \\lambda \\vec{v}\n",
    "$$\n",
    "\n",
    "**INF15.1**: solution\n",
    "$$\n",
    "\\begin{align*}\n",
    "A\\vec{v} & = \\lambda \\vec{v} \\\\\n",
    "A\\vec{v} & = (\\lambda I)\\vec{v}\\\\\n",
    "(A - \\lambda I)\\vec{v} & = \\vec{0} \\\\\n",
    "\\text{det}(A - \\lambda I) & = 0\n",
    "\\end{align*}\n",
    "$$"
   ]
  },
  {
   "cell_type": "markdown",
   "metadata": {},
   "source": [
    "**INF15.2**: The transformation $M$ in its *eigenbasis* $E$ is always *diagonal*\n",
    "\n",
    "$$\n",
    "\\begin{bmatrix}\n",
    "1 & -1 \\\\\n",
    "0 & 1\n",
    "\\end{bmatrix}^{-1}\n",
    "\\begin{bmatrix}\n",
    "3 & 1 \\\\\n",
    "0 & 2\n",
    "\\end{bmatrix}\n",
    "\\begin{bmatrix}\n",
    "1 & -1 \\\\\n",
    "0 & 1\n",
    "\\end{bmatrix}\n",
    "=\n",
    "\\begin{bmatrix}\n",
    "3 & 0 \\\\\n",
    "0 & 2\n",
    "\\end{bmatrix}\n",
    "$$\n",
    "\n",
    "where $[(3,0),(1,2)]$ is the transformation, $(1,0)$ and $(-1,1)$ are the eigenbasis."
   ]
  },
  {
   "cell_type": "markdown",
   "metadata": {},
   "source": [
    "**INF15.3**: compute $A^k$\n",
    "$$\n",
    "\\begin{align*}\n",
    "D & := S^{-1}AS \\\\\n",
    "A & = SDS^{-1} \\\\\n",
    "A^k & = (SDS^{-1})^k \\\\\n",
    "    & = \\underbrace{(SDS^{-1})(SDS^{-1})\\ldots(SDS^{-1})}_{k} \\\\\n",
    "    & = SD^kS^{-1}\n",
    "\\end{align*}\n",
    "$$\n",
    "\n",
    "where $S$ is the eigenbasis of $A$"
   ]
  },
  {
   "cell_type": "markdown",
   "metadata": {},
   "source": [
    "**Q1**: Take the following matrix:\n",
    "$$\n",
    "A = \\begin{bmatrix} 0 & 1 \\\\ 1 & 1 \\end{bmatrix}\n",
    "$$\n",
    "\n",
    "Start computing its first few powers by hand: $A^2$, $A^3$, etc.\n",
    "\n",
    "1. What pattern do you see?\n",
    "2. Can you explain why this pattern shows up?\n",
    "\n",
    "This might make you curious to know if there's an efficient way to compute arbitrary powers of this matrix. $A^n$ for any number $n$."
   ]
  },
  {
   "cell_type": "code",
   "execution_count": 35,
   "metadata": {},
   "outputs": [
    {
     "name": "stdout",
     "output_type": "stream",
     "text": [
      "[[1 1]\n",
      " [1 2]]\n",
      "[[1 2]\n",
      " [2 3]]\n",
      "[[2 3]\n",
      " [3 5]]\n",
      "eigen basis: [[-0.85065081 -0.52573111]\n",
      " [ 0.52573111 -0.85065081]]\n",
      "eigen trans: [[-6.18033989e-01  1.11022302e-16]\n",
      " [ 1.11022302e-16  1.61803399e+00]]\n",
      "[[1. 1.]\n",
      " [1. 2.]]\n",
      "[[1. 2.]\n",
      " [2. 3.]]\n",
      "[[2. 3.]\n",
      " [3. 5.]]\n"
     ]
    }
   ],
   "source": [
    "import numpy as np\n",
    "\n",
    "A = np.matrix('0, 1; 1, 1')\n",
    "I = np.matrix('1, 0; 0, 1')\n",
    "\n",
    "print(A * A)\n",
    "print(A * A * A)\n",
    "print(A * A * A * A)\n",
    "\n",
    "from numpy import linalg as LA\n",
    "\n",
    "eig_vals, S = LA.eig(A)\n",
    "print('eigen basis: {}'.format(S))\n",
    "\n",
    "Si = S ** -1\n",
    "D = Si * A * S\n",
    "print('eigen trans: {}'.format(D))\n",
    "\n",
    "def fib(n):\n",
    "    return S * (D ** n) * Si\n",
    "\n",
    "for i in range(2, 5):\n",
    "    print(fib(i))"
   ]
  },
  {
   "cell_type": "markdown",
   "metadata": {},
   "source": [
    "**Q2**: Given that two eigenvectors of this matrix are\n",
    "$$\n",
    "\\begin{align*}\n",
    "\\vec{v_1} = \\begin{bmatrix} 2 \\\\ 1 + \\sqrt{5} \\end{bmatrix} & &\n",
    "\\vec{v_2} = \\begin{bmatrix} 2 \\\\ 1 - \\sqrt{5} \\end{bmatrix}\n",
    "\\end{align*}\n",
    "$$\n",
    "\n",
    "see if you can figure out a way to compute $A^n$ by first chaning to an eigenbasis, compute the new representation of $A^n$ in that basis, then converting back to our standard basis. What does this formula tell you?"
   ]
  },
  {
   "cell_type": "code",
   "execution_count": 42,
   "metadata": {},
   "outputs": [
    {
     "name": "stdout",
     "output_type": "stream",
     "text": [
      "eigen basis: [[ 2.          2.        ]\n",
      " [ 3.23606798 -1.23606798]]\n",
      "[[3. 5.]\n",
      " [5. 8.]]\n"
     ]
    }
   ],
   "source": [
    "import numpy as np\n",
    "from math import sqrt\n",
    "\n",
    "A = np.matrix([\n",
    "    [0, 1],\n",
    "    [1, 1]\n",
    "])\n",
    "\n",
    "S = np.matrix([\n",
    "    [2,           2],\n",
    "    [1 + sqrt(5), 1 - sqrt(5)]\n",
    "])\n",
    "print('eigen basis: {}'.format(S))\n",
    "\n",
    "Si = S ** -1\n",
    "\n",
    "D = Si * A * S\n",
    "\n",
    "def fib(n):\n",
    "    return S * (D ** n) * Si\n",
    "\n",
    "print(fib(5))"
   ]
  }
 ],
 "metadata": {
  "kernelspec": {
   "display_name": "Python 3",
   "language": "python",
   "name": "python3"
  },
  "language_info": {
   "codemirror_mode": {
    "name": "ipython",
    "version": 3
   },
   "file_extension": ".py",
   "mimetype": "text/x-python",
   "name": "python",
   "nbconvert_exporter": "python",
   "pygments_lexer": "ipython3",
   "version": "3.7.6"
  }
 },
 "nbformat": 4,
 "nbformat_minor": 4
}
